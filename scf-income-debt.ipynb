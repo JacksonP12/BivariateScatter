{
 "cells": [
  {
   "cell_type": "code",
   "execution_count": null,
   "id": "bfe2d0e9",
   "metadata": {},
   "outputs": [],
   "source": [
    "#dataset\n",
    "#https://sda.berkeley.edu/sdaweb/analysis/?dataset=scfcomb\n",
    "#CODEBOOK\n",
    "#INCOME             Total amount of income of household, 2016 dollars\n",
    "#DEBT               Total value of debt held by household, 2016 dollars"
   ]
  },
  {
   "cell_type": "code",
   "execution_count": 5,
   "id": "aa09a18f",
   "metadata": {},
   "outputs": [],
   "source": [
    "#import dependencies\n",
    "import pandas as pd\n",
    "import numpy as np\n",
    "import matplotlib.pyplot as plt"
   ]
  },
  {
   "cell_type": "code",
   "execution_count": 12,
   "id": "570da328",
   "metadata": {
    "scrolled": true
   },
   "outputs": [
    {
     "data": {
      "text/html": [
       "<div>\n",
       "<style scoped>\n",
       "    .dataframe tbody tr th:only-of-type {\n",
       "        vertical-align: middle;\n",
       "    }\n",
       "\n",
       "    .dataframe tbody tr th {\n",
       "        vertical-align: top;\n",
       "    }\n",
       "\n",
       "    .dataframe thead th {\n",
       "        text-align: right;\n",
       "    }\n",
       "</style>\n",
       "<table border=\"1\" class=\"dataframe\">\n",
       "  <thead>\n",
       "    <tr style=\"text-align: right;\">\n",
       "      <th></th>\n",
       "      <th>INCOME</th>\n",
       "      <th>DEBT</th>\n",
       "    </tr>\n",
       "  </thead>\n",
       "  <tbody>\n",
       "    <tr>\n",
       "      <th>0</th>\n",
       "      <td>9737.17</td>\n",
       "      <td>1530.01</td>\n",
       "    </tr>\n",
       "    <tr>\n",
       "      <th>1</th>\n",
       "      <td>9737.17</td>\n",
       "      <td>1324.76</td>\n",
       "    </tr>\n",
       "    <tr>\n",
       "      <th>2</th>\n",
       "      <td>9737.17</td>\n",
       "      <td>1697.93</td>\n",
       "    </tr>\n",
       "    <tr>\n",
       "      <th>3</th>\n",
       "      <td>9737.17</td>\n",
       "      <td>1679.27</td>\n",
       "    </tr>\n",
       "    <tr>\n",
       "      <th>4</th>\n",
       "      <td>9737.17</td>\n",
       "      <td>1474.03</td>\n",
       "    </tr>\n",
       "    <tr>\n",
       "      <th>...</th>\n",
       "      <td>...</td>\n",
       "      <td>...</td>\n",
       "    </tr>\n",
       "    <tr>\n",
       "      <th>238875</th>\n",
       "      <td>21265.36</td>\n",
       "      <td>15900.00</td>\n",
       "    </tr>\n",
       "    <tr>\n",
       "      <th>238876</th>\n",
       "      <td>21265.36</td>\n",
       "      <td>15900.00</td>\n",
       "    </tr>\n",
       "    <tr>\n",
       "      <th>238877</th>\n",
       "      <td>21265.36</td>\n",
       "      <td>15900.00</td>\n",
       "    </tr>\n",
       "    <tr>\n",
       "      <th>238878</th>\n",
       "      <td>21265.36</td>\n",
       "      <td>15900.00</td>\n",
       "    </tr>\n",
       "    <tr>\n",
       "      <th>238879</th>\n",
       "      <td>20252.73</td>\n",
       "      <td>15900.00</td>\n",
       "    </tr>\n",
       "  </tbody>\n",
       "</table>\n",
       "<p>238880 rows × 2 columns</p>\n",
       "</div>"
      ],
      "text/plain": [
       "          INCOME      DEBT\n",
       "0        9737.17   1530.01\n",
       "1        9737.17   1324.76\n",
       "2        9737.17   1697.93\n",
       "3        9737.17   1679.27\n",
       "4        9737.17   1474.03\n",
       "...          ...       ...\n",
       "238875  21265.36  15900.00\n",
       "238876  21265.36  15900.00\n",
       "238877  21265.36  15900.00\n",
       "238878  21265.36  15900.00\n",
       "238879  20252.73  15900.00\n",
       "\n",
       "[238880 rows x 2 columns]"
      ]
     },
     "execution_count": 12,
     "metadata": {},
     "output_type": "execute_result"
    }
   ],
   "source": [
    "df = pd.read_csv('sub-data.csv')\n",
    "df"
   ]
  },
  {
   "cell_type": "code",
   "execution_count": 35,
   "id": "9782b241",
   "metadata": {},
   "outputs": [
    {
     "data": {
      "text/plain": [
       "Text(0, 0.5, 'Debt ($10,000,000s)')"
      ]
     },
     "execution_count": 35,
     "metadata": {},
     "output_type": "execute_result"
    },
    {
     "data": {
      "image/png": "[encoded data removed]",
      "text/plain": [
       "<Figure size 432x288 with 1 Axes>"
      ]
     },
     "metadata": {
      "needs_background": "light"
     },
     "output_type": "display_data"
    }
   ],
   "source": [
    "#make scatterplot based on data\n",
    "x = df['INCOME']\n",
    "y = df['DEBT']\n",
    "plt.scatter(x=x, y=y)\n",
    "plt.ylim(0,50000000)\n",
    "plt.xlim(0,50000000)\n",
    "plt.title(\"US INCOME & DEBT (USD)\")\n",
    "plt.xlabel(\"Income ($10,000,000s)\")\n",
    "plt.ylabel(\"Debt ($10,000,000s)\")"
   ]
  },
  {
   "cell_type": "code",
   "execution_count": null,
   "id": "5fb00b1a",
   "metadata": {},
   "outputs": [],
   "source": []
  }
 ],
 "metadata": {
  "kernelspec": {
   "display_name": "Python 3 (ipykernel)",
   "language": "python",
   "name": "python3"
  },
  "language_info": {
   "codemirror_mode": {
    "name": "ipython",
    "version": 3
   },
   "file_extension": ".py",
   "mimetype": "text/x-python",
   "name": "python",
   "nbconvert_exporter": "python",
   "pygments_lexer": "ipython3",
   "version": "3.9.12"
  }
 },
 "nbformat": 4,
 "nbformat_minor": 5
}
